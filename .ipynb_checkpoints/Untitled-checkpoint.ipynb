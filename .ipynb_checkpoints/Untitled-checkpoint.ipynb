{
 "cells": [
  {
   "cell_type": "code",
   "execution_count": 1,
   "metadata": {},
   "outputs": [],
   "source": [
    "from pyspark import SparkContext"
   ]
  },
  {
   "cell_type": "markdown",
   "metadata": {},
   "source": [
    "Initialize the spark session and import the training file"
   ]
  },
  {
   "cell_type": "code",
   "execution_count": 2,
   "metadata": {},
   "outputs": [],
   "source": [
    "sc = SparkContext(\"local\", \"first app\")"
   ]
  },
  {
   "cell_type": "code",
   "execution_count": 3,
   "metadata": {},
   "outputs": [],
   "source": [
    "train = sc.textFile('training_set_tweets.txt')"
   ]
  },
  {
   "cell_type": "code",
   "execution_count": 1,
   "metadata": {},
   "outputs": [],
   "source": [
    "#train.take(1084)"
   ]
  },
  {
   "cell_type": "markdown",
   "metadata": {},
   "source": [
    "After testing , some preprocessing to isolate the texts and remove the numeral columns and the date time"
   ]
  },
  {
   "cell_type": "code",
   "execution_count": 4,
   "metadata": {},
   "outputs": [],
   "source": [
    "small = train.take(100000)"
   ]
  },
  {
   "cell_type": "code",
   "execution_count": 5,
   "metadata": {},
   "outputs": [],
   "source": [
    "small = [line.split('\\t') for line in small]"
   ]
  },
  {
   "cell_type": "code",
   "execution_count": 6,
   "metadata": {},
   "outputs": [],
   "source": [
    "import datetime\n",
    "def validate(date_text):\n",
    "    try:\n",
    "        datetime.datetime.strptime(date_text, '%Y-%m-%d %H:%M:%S')\n",
    "        return True\n",
    "    except ValueError:\n",
    "        return False"
   ]
  },
  {
   "cell_type": "code",
   "execution_count": 7,
   "metadata": {},
   "outputs": [],
   "source": [
    "small_text = [[l for l in line if (l.isdigit()==False and validate(l)==False)] for line in small]"
   ]
  },
  {
   "cell_type": "code",
   "execution_count": 8,
   "metadata": {},
   "outputs": [],
   "source": [
    "import itertools\n",
    "small_text = list(itertools.chain.from_iterable(small_text))"
   ]
  },
  {
   "cell_type": "code",
   "execution_count": 2,
   "metadata": {},
   "outputs": [],
   "source": [
    "#small[3]"
   ]
  },
  {
   "cell_type": "markdown",
   "metadata": {},
   "source": [
    "Making a dictionary of cities"
   ]
  },
  {
   "cell_type": "code",
   "execution_count": 9,
   "metadata": {},
   "outputs": [],
   "source": [
    "city = sc.textFile('training_set_users.txt').map(lambda x: x.split('\\t')).collectAsMap() "
   ]
  },
  {
   "cell_type": "code",
   "execution_count": 72,
   "metadata": {},
   "outputs": [
    {
     "data": {
      "text/plain": [
       "108421"
      ]
     },
     "execution_count": 72,
     "metadata": {},
     "output_type": "execute_result"
    }
   ],
   "source": [
    "len(city)"
   ]
  },
  {
   "cell_type": "code",
   "execution_count": 3,
   "metadata": {},
   "outputs": [],
   "source": [
    "#city"
   ]
  },
  {
   "cell_type": "code",
   "execution_count": 73,
   "metadata": {},
   "outputs": [
    {
     "data": {
      "text/plain": [
       "'Los Angeles'"
      ]
     },
     "execution_count": 73,
     "metadata": {},
     "output_type": "execute_result"
    }
   ],
   "source": [
    "city['60730027']"
   ]
  },
  {
   "cell_type": "markdown",
   "metadata": {},
   "source": [
    "Importing the nltk library and the Spacy library module for the ner processing"
   ]
  },
  {
   "cell_type": "code",
   "execution_count": 10,
   "metadata": {},
   "outputs": [],
   "source": [
    "import nltk\n",
    "#from spacy import displacy\n",
    "#from collections import Counter\n",
    "import en_core_web_sm\n",
    "nlp = en_core_web_sm.load()"
   ]
  },
  {
   "cell_type": "markdown",
   "metadata": {},
   "source": [
    "#Applying nlp to the isolated text"
   ]
  },
  {
   "cell_type": "code",
   "execution_count": 11,
   "metadata": {},
   "outputs": [],
   "source": [
    "d = [nlp((line.lower())) for line in small_text]"
   ]
  },
  {
   "cell_type": "code",
   "execution_count": 105,
   "metadata": {},
   "outputs": [
    {
     "data": {
      "text/plain": [
       "@thediscovietnam coo.  thanks. just dropped you a line."
      ]
     },
     "execution_count": 105,
     "metadata": {},
     "output_type": "execute_result"
    }
   ],
   "source": [
    "d[0]"
   ]
  },
  {
   "cell_type": "markdown",
   "metadata": {},
   "source": [
    "Extracting NER pairs from texts"
   ]
  },
  {
   "cell_type": "code",
   "execution_count": 12,
   "metadata": {},
   "outputs": [],
   "source": [
    "ent = [{X.text: X.label_ for X in item.ents} for item in d]"
   ]
  },
  {
   "cell_type": "code",
   "execution_count": 4,
   "metadata": {},
   "outputs": [],
   "source": [
    "#ent"
   ]
  },
  {
   "cell_type": "code",
   "execution_count": 33,
   "metadata": {},
   "outputs": [],
   "source": [
    "s = nlp(\"Hello twitter, I just woke up. I'm breakfasting. A long day wait me. \")"
   ]
  },
  {
   "cell_type": "code",
   "execution_count": 34,
   "metadata": {},
   "outputs": [
    {
     "data": {
      "text/plain": [
       "[('A long day', 'DATE')]"
      ]
     },
     "execution_count": 34,
     "metadata": {},
     "output_type": "execute_result"
    }
   ],
   "source": [
    "[(X.text, X.label_) for X in s.ents]"
   ]
  },
  {
   "cell_type": "markdown",
   "metadata": {},
   "source": [
    "We isolate the tweets with the tags of Person and timeline roughly for the first stage filtering of the tweets"
   ]
  },
  {
   "cell_type": "code",
   "execution_count": 13,
   "metadata": {},
   "outputs": [],
   "source": [
    "def booler(ent,text):\n",
    "    if ('PERSON' in ent.values() and ('EVENT' in ent.values() or 'DATE' in ent.values() or 'TIME' in ent.values())):\n",
    "        return True\n",
    "    elif 'concert' in text.lower():\n",
    "        return True\n",
    "    else: \n",
    "        return False"
   ]
  },
  {
   "cell_type": "code",
   "execution_count": 14,
   "metadata": {},
   "outputs": [],
   "source": [
    "boo = []\n",
    "for i in range(len(small_text)):\n",
    "    boo.append(booler(ent[i],small_text[i]))"
   ]
  },
  {
   "cell_type": "markdown",
   "metadata": {},
   "source": [
    "Applying the boolean variable to all the lists for filtering"
   ]
  },
  {
   "cell_type": "code",
   "execution_count": 15,
   "metadata": {},
   "outputs": [],
   "source": [
    "from itertools import compress\n",
    "extract = list(compress(ent, boo))"
   ]
  },
  {
   "cell_type": "code",
   "execution_count": 5,
   "metadata": {},
   "outputs": [],
   "source": [
    "#extract"
   ]
  },
  {
   "cell_type": "code",
   "execution_count": 39,
   "metadata": {},
   "outputs": [
    {
     "data": {
      "text/plain": [
       "2"
      ]
     },
     "execution_count": 39,
     "metadata": {},
     "output_type": "execute_result"
    }
   ],
   "source": [
    "len(extract)"
   ]
  },
  {
   "cell_type": "code",
   "execution_count": 16,
   "metadata": {},
   "outputs": [],
   "source": [
    "extracted_text = list(compress(small_text,boo))"
   ]
  },
  {
   "cell_type": "code",
   "execution_count": 6,
   "metadata": {},
   "outputs": [],
   "source": [
    "#extracted_text[:10]"
   ]
  },
  {
   "cell_type": "markdown",
   "metadata": {},
   "source": [
    "Defining and Checking the Sentiment Analyzer"
   ]
  },
  {
   "cell_type": "code",
   "execution_count": 17,
   "metadata": {},
   "outputs": [],
   "source": [
    "from nltk.sentiment.vader import SentimentIntensityAnalyzer\n",
    "sid = SentimentIntensityAnalyzer()"
   ]
  },
  {
   "cell_type": "code",
   "execution_count": 217,
   "metadata": {},
   "outputs": [],
   "source": [
    "ss = sid.polarity_scores(\"Hello twitter, I just woke up. I'm breakfasting. A long day wait me.\")"
   ]
  },
  {
   "cell_type": "code",
   "execution_count": 218,
   "metadata": {},
   "outputs": [
    {
     "data": {
      "text/plain": [
       "{'neg': 0.0, 'neu': 1.0, 'pos': 0.0, 'compound': 0.0}"
      ]
     },
     "execution_count": 218,
     "metadata": {},
     "output_type": "execute_result"
    }
   ],
   "source": [
    "ss"
   ]
  },
  {
   "cell_type": "code",
   "execution_count": 59,
   "metadata": {},
   "outputs": [],
   "source": [
    "small_mod = list(compress(small,boo))"
   ]
  },
  {
   "cell_type": "code",
   "execution_count": 7,
   "metadata": {},
   "outputs": [],
   "source": [
    "#small_mod"
   ]
  },
  {
   "cell_type": "code",
   "execution_count": 222,
   "metadata": {},
   "outputs": [
    {
     "data": {
      "text/plain": [
       "214"
      ]
     },
     "execution_count": 222,
     "metadata": {},
     "output_type": "execute_result"
    }
   ],
   "source": [
    "len(small_mod)"
   ]
  },
  {
   "cell_type": "markdown",
   "metadata": {},
   "source": [
    "Loading the singers list of 2010."
   ]
  },
  {
   "cell_type": "code",
   "execution_count": 18,
   "metadata": {},
   "outputs": [],
   "source": [
    "lines_list = open('singers.txt').read().splitlines()"
   ]
  },
  {
   "cell_type": "code",
   "execution_count": 19,
   "metadata": {},
   "outputs": [],
   "source": [
    "singers = []\n",
    "for line in lines_list:\n",
    "    singers.append(line.lower())\n",
    "    lin_spl = line.lower().split()\n",
    "    if len(lin_spl)>1:\n",
    "        singers.append(lin_spl[0])\n",
    "        singers.append(\" \".join(lin_spl[:2]))"
   ]
  },
  {
   "cell_type": "code",
   "execution_count": 20,
   "metadata": {},
   "outputs": [
    {
     "data": {
      "text/plain": [
       "549"
      ]
     },
     "execution_count": 20,
     "metadata": {},
     "output_type": "execute_result"
    }
   ],
   "source": [
    "len(singers)"
   ]
  },
  {
   "cell_type": "code",
   "execution_count": 8,
   "metadata": {},
   "outputs": [],
   "source": [
    "#extract"
   ]
  },
  {
   "cell_type": "code",
   "execution_count": 22,
   "metadata": {},
   "outputs": [],
   "source": [
    "import operator"
   ]
  },
  {
   "cell_type": "markdown",
   "metadata": {},
   "source": [
    "#Defining distionary for the sentiment real names"
   ]
  },
  {
   "cell_type": "code",
   "execution_count": 21,
   "metadata": {},
   "outputs": [],
   "source": [
    "sent_key = {'pos':'positive','neg':'negative','neu':'neutral','compound':'compound'}"
   ]
  },
  {
   "cell_type": "markdown",
   "metadata": {},
   "source": [
    "Writing the final code for making the output dictionary wit the details. \n",
    "1. Dates could be parsed from the sentence but we have allocated the original tweet dates as date parser library couldn't parse some of the tweets.\n",
    "2. City dictionary is used to indicate the place of the tweet and event.\n",
    "3. We check the dictionary of the singers and only cast these tweets as relevant pertaining to the mention of singer name\n",
    "4. We apply the sentiment indicator as defined earlier"
   ]
  },
  {
   "cell_type": "code",
   "execution_count": 23,
   "metadata": {},
   "outputs": [],
   "source": [
    "def keywithmaxval(d,sent_key):\n",
    "     \"\"\" a) create a list of the dict's keys and values; \n",
    "         b) return the key with the max value\"\"\"  \n",
    "     v=list(d.values())\n",
    "     k=list(d.keys())\n",
    "     return sent_key[k[v.index(max(v))]]\n",
    "def final(sent,singers,ent,text):\n",
    "    d = []\n",
    "    boo = []\n",
    "    dent = sent\n",
    "    i = 0\n",
    "    while i < len(text):\n",
    "        dictor = {}\n",
    "        #print(text[i])\n",
    "        if 'PERSON' in ent[i].values():\n",
    "            person = list(ent[i].keys())[list(ent[i].values()).index('PERSON')]\n",
    "            if person in singers:\n",
    "                dictor['who'] = person\n",
    "                boo.append(True)\n",
    "            else:\n",
    "                dictor['who'] = 'null'\n",
    "                boo.append(False)\n",
    "        else: \n",
    "            dictor['who'] = 'null'\n",
    "            boo.append(False)\n",
    "        for j in range(len(dent[i])):\n",
    "            #print(len(dent[i][1]))\n",
    "            if len(dent[i][0])<9 and dent[i][0].isdigit()==True:\n",
    "                #print(city[(dent[i][j])])\n",
    "                dictor['where'] = city[(dent[i][0])]\n",
    "            elif 'youtube' in text[i].lower():\n",
    "                dictor['where'] = 'YouTube'\n",
    "            if validate(dent[i][j]):\n",
    "                date = datetime.datetime.strptime(dent[i][j], '%Y-%m-%d %H:%M:%S')\n",
    "                dictor['when'] = date.strftime(\"%m/%d/%Y\")\n",
    "        sentiment = sid.polarity_scores(text[i])\n",
    "        #print(dent[i])\n",
    "        dictor[\"sentiment\"] = keywithmaxval(sentiment,sent_key)\n",
    "        dictor['audience'] = 'null'\n",
    "        d.append(dictor)\n",
    "        \n",
    "        i+=1\n",
    "    return list(compress(d,boo))"
   ]
  },
  {
   "cell_type": "code",
   "execution_count": 24,
   "metadata": {},
   "outputs": [
    {
     "data": {
      "text/plain": [
       "[{'who': 'lady gaga',\n",
       "  'where': 'Tacoma, WA',\n",
       "  'when': '07/07/2009',\n",
       "  'sentiment': 'neutral',\n",
       "  'audience': 'null'},\n",
       " {'who': 'taylor swift',\n",
       "  'where': 'Orlando, FL',\n",
       "  'when': '11/24/2009',\n",
       "  'sentiment': 'neutral',\n",
       "  'audience': 'null'},\n",
       " {'who': 'taylor swift',\n",
       "  'where': 'Orlando, FL',\n",
       "  'when': '11/24/2009',\n",
       "  'sentiment': 'neutral',\n",
       "  'audience': 'null'},\n",
       " {'who': 'chris brown',\n",
       "  'where': 'Orlando, FL',\n",
       "  'when': '11/23/2009',\n",
       "  'sentiment': 'compound',\n",
       "  'audience': 'null'},\n",
       " {'who': 'david guetta',\n",
       "  'where': 'Orlando, FL',\n",
       "  'when': '11/23/2009',\n",
       "  'sentiment': 'compound',\n",
       "  'audience': 'null'},\n",
       " {'who': 'madonna',\n",
       "  'where': 'Orlando, FL',\n",
       "  'when': '11/23/2009',\n",
       "  'sentiment': 'neutral',\n",
       "  'audience': 'null'},\n",
       " {'who': 'tom',\n",
       "  'where': 'Orlando, FL',\n",
       "  'when': '11/22/2009',\n",
       "  'sentiment': 'neutral',\n",
       "  'audience': 'null'},\n",
       " {'who': 'michael jackson',\n",
       "  'where': 'Cleveland, Ohio',\n",
       "  'when': '08/12/2009',\n",
       "  'sentiment': 'neutral',\n",
       "  'audience': 'null'},\n",
       " {'who': 'george',\n",
       "  'where': 'Cleveland, Ohio',\n",
       "  'when': '08/12/2009',\n",
       "  'sentiment': 'neutral',\n",
       "  'audience': 'null'},\n",
       " {'who': 'george',\n",
       "  'where': 'Cleveland, Ohio',\n",
       "  'when': '08/12/2009',\n",
       "  'sentiment': 'neutral',\n",
       "  'audience': 'null'},\n",
       " {'who': 'taylor swift',\n",
       "  'where': 'Cleveland, Ohio',\n",
       "  'when': '08/12/2009',\n",
       "  'sentiment': 'compound',\n",
       "  'audience': 'null'},\n",
       " {'who': 'michael jackson',\n",
       "  'when': '10/07/2009',\n",
       "  'sentiment': 'compound',\n",
       "  'audience': 'null'},\n",
       " {'who': 'jeannie',\n",
       "  'where': 'San Francisco',\n",
       "  'when': '01/21/2009',\n",
       "  'sentiment': 'compound',\n",
       "  'audience': 'null'},\n",
       " {'who': 'david',\n",
       "  'where': 'San Francisco',\n",
       "  'when': '12/02/2008',\n",
       "  'sentiment': 'neutral',\n",
       "  'audience': 'null'},\n",
       " {'who': 'simon',\n",
       "  'where': 'San Francisco',\n",
       "  'when': '10/09/2009',\n",
       "  'sentiment': 'neutral',\n",
       "  'audience': 'null'},\n",
       " {'who': 'michael jackson',\n",
       "  'where': 'San Francisco',\n",
       "  'when': '09/20/2009',\n",
       "  'sentiment': 'neutral',\n",
       "  'audience': 'null'},\n",
       " {'who': 'john',\n",
       "  'where': 'San Francisco',\n",
       "  'when': '08/15/2009',\n",
       "  'sentiment': 'neutral',\n",
       "  'audience': 'null'},\n",
       " {'who': 'chris',\n",
       "  'where': 'San Francisco',\n",
       "  'when': '06/02/2009',\n",
       "  'sentiment': 'neutral',\n",
       "  'audience': 'null'},\n",
       " {'who': 'julie',\n",
       "  'where': 'Palm Beach, FL',\n",
       "  'when': '09/14/2009',\n",
       "  'sentiment': 'neutral',\n",
       "  'audience': 'null'},\n",
       " {'who': 'chris',\n",
       "  'where': 'Palm Beach, FL',\n",
       "  'when': '09/11/2009',\n",
       "  'sentiment': 'compound',\n",
       "  'audience': 'null'},\n",
       " {'who': 'jay',\n",
       "  'where': 'Santa Monica, CA',\n",
       "  'when': '11/20/2009',\n",
       "  'sentiment': 'neutral',\n",
       "  'audience': 'null'},\n",
       " {'who': 'lady gaga',\n",
       "  'where': 'Santa Monica, CA',\n",
       "  'when': '11/17/2009',\n",
       "  'sentiment': 'neutral',\n",
       "  'audience': 'null'},\n",
       " {'who': 'michael',\n",
       "  'where': 'Atlanta, Georgia',\n",
       "  'when': '11/05/2009',\n",
       "  'sentiment': 'neutral',\n",
       "  'audience': 'null'},\n",
       " {'who': 'r. kelly',\n",
       "  'where': 'Houston',\n",
       "  'when': '10/12/2009',\n",
       "  'sentiment': 'neutral',\n",
       "  'audience': 'null'},\n",
       " {'who': 'tony',\n",
       "  'where': 'Indiana',\n",
       "  'when': '09/24/2009',\n",
       "  'sentiment': 'neutral',\n",
       "  'audience': 'null'},\n",
       " {'who': 'roger',\n",
       "  'where': 'Indiana',\n",
       "  'when': '08/04/2009',\n",
       "  'sentiment': 'neutral',\n",
       "  'audience': 'null'},\n",
       " {'who': 'roger',\n",
       "  'where': 'Chicago, IL',\n",
       "  'when': '10/09/2009',\n",
       "  'sentiment': 'compound',\n",
       "  'audience': 'null'},\n",
       " {'who': 'miley cyrus',\n",
       "  'where': 'New York',\n",
       "  'when': '09/16/2009',\n",
       "  'sentiment': 'neutral',\n",
       "  'audience': 'null'},\n",
       " {'who': 'miley cyrus',\n",
       "  'where': 'New York',\n",
       "  'when': '09/15/2009',\n",
       "  'sentiment': 'neutral',\n",
       "  'audience': 'null'},\n",
       " {'who': 'r. kelly',\n",
       "  'where': 'Houston',\n",
       "  'when': '11/19/2009',\n",
       "  'sentiment': 'neutral',\n",
       "  'audience': 'null'},\n",
       " {'who': 'r. kelly',\n",
       "  'where': 'Houston',\n",
       "  'when': '11/19/2009',\n",
       "  'sentiment': 'neutral',\n",
       "  'audience': 'null'},\n",
       " {'who': 'r. kelly',\n",
       "  'where': 'Houston',\n",
       "  'when': '11/19/2009',\n",
       "  'sentiment': 'neutral',\n",
       "  'audience': 'null'},\n",
       " {'who': 'r. kelly',\n",
       "  'where': 'Houston',\n",
       "  'when': '11/19/2009',\n",
       "  'sentiment': 'neutral',\n",
       "  'audience': 'null'},\n",
       " {'who': 'r. kelly',\n",
       "  'where': 'Houston',\n",
       "  'when': '11/19/2009',\n",
       "  'sentiment': 'neutral',\n",
       "  'audience': 'null'},\n",
       " {'who': 'r. kelly',\n",
       "  'where': 'Houston',\n",
       "  'when': '11/18/2009',\n",
       "  'sentiment': 'neutral',\n",
       "  'audience': 'null'},\n",
       " {'who': 'r. kelly',\n",
       "  'where': 'Houston',\n",
       "  'when': '11/18/2009',\n",
       "  'sentiment': 'neutral',\n",
       "  'audience': 'null'},\n",
       " {'who': 'r. kelly',\n",
       "  'where': 'Houston',\n",
       "  'when': '11/18/2009',\n",
       "  'sentiment': 'neutral',\n",
       "  'audience': 'null'},\n",
       " {'who': 'r. kelly',\n",
       "  'where': 'Houston',\n",
       "  'when': '11/18/2009',\n",
       "  'sentiment': 'neutral',\n",
       "  'audience': 'null'},\n",
       " {'who': 'r. kelly',\n",
       "  'where': 'Houston',\n",
       "  'when': '11/18/2009',\n",
       "  'sentiment': 'neutral',\n",
       "  'audience': 'null'},\n",
       " {'who': 'r. kelly',\n",
       "  'where': 'Houston',\n",
       "  'when': '11/17/2009',\n",
       "  'sentiment': 'neutral',\n",
       "  'audience': 'null'},\n",
       " {'who': 'chris',\n",
       "  'where': 'Houston, TX',\n",
       "  'when': '12/01/2009',\n",
       "  'sentiment': 'neutral',\n",
       "  'audience': 'null'},\n",
       " {'who': 'michael jackson',\n",
       "  'where': 'Brooklyn',\n",
       "  'when': '11/27/2009',\n",
       "  'sentiment': 'neutral',\n",
       "  'audience': 'null'},\n",
       " {'who': 'kanye west',\n",
       "  'where': 'Atlanta, GA',\n",
       "  'when': '11/18/2009',\n",
       "  'sentiment': 'neutral',\n",
       "  'audience': 'null'},\n",
       " {'who': 'jason',\n",
       "  'where': 'Santa Monica, CA',\n",
       "  'when': '10/27/2009',\n",
       "  'sentiment': 'neutral',\n",
       "  'audience': 'null'},\n",
       " {'who': 'ed',\n",
       "  'where': 'Sioux Falls, SD',\n",
       "  'when': '10/17/2009',\n",
       "  'sentiment': 'neutral',\n",
       "  'audience': 'null'},\n",
       " {'who': 'michael',\n",
       "  'where': 'Sioux Falls, SD',\n",
       "  'when': '10/12/2009',\n",
       "  'sentiment': 'neutral',\n",
       "  'audience': 'null'},\n",
       " {'who': 'jay-z',\n",
       "  'where': 'Boston, Massachusetts',\n",
       "  'when': '10/10/2009',\n",
       "  'sentiment': 'compound',\n",
       "  'audience': 'null'},\n",
       " {'who': 'scott',\n",
       "  'where': 'Boston, Massachusetts',\n",
       "  'when': '09/09/2009',\n",
       "  'sentiment': 'neutral',\n",
       "  'audience': 'null'},\n",
       " {'who': 'simon',\n",
       "  'where': 'Boston, Massachusetts',\n",
       "  'when': '09/05/2009',\n",
       "  'sentiment': 'neutral',\n",
       "  'audience': 'null'},\n",
       " {'who': 'foster',\n",
       "  'where': 'Boston, Massachusetts',\n",
       "  'when': '09/01/2009',\n",
       "  'sentiment': 'neutral',\n",
       "  'audience': 'null'},\n",
       " {'who': 'jason',\n",
       "  'where': 'Boston, Massachusetts',\n",
       "  'when': '08/20/2009',\n",
       "  'sentiment': 'neutral',\n",
       "  'audience': 'null'},\n",
       " {'who': 'george michael',\n",
       "  'where': 'Boston, Massachusetts',\n",
       "  'when': '08/17/2009',\n",
       "  'sentiment': 'neutral',\n",
       "  'audience': 'null'},\n",
       " {'who': 'david',\n",
       "  'where': 'St. Louis, MO',\n",
       "  'when': '10/31/2009',\n",
       "  'sentiment': 'neutral',\n",
       "  'audience': 'null'},\n",
       " {'who': 'michael jackson',\n",
       "  'where': 'St. Louis, MO',\n",
       "  'when': '10/31/2009',\n",
       "  'sentiment': 'neutral',\n",
       "  'audience': 'null'},\n",
       " {'who': 'taylor swift',\n",
       "  'where': 'St. Louis, MO',\n",
       "  'when': '10/31/2009',\n",
       "  'sentiment': 'neutral',\n",
       "  'audience': 'null'},\n",
       " {'who': 'michael jackson',\n",
       "  'where': 'San Francisco, CA',\n",
       "  'when': '10/31/2009',\n",
       "  'sentiment': 'neutral',\n",
       "  'audience': 'null'},\n",
       " {'who': 'ray',\n",
       "  'where': 'Atlanta, Georgia',\n",
       "  'when': '11/05/2009',\n",
       "  'sentiment': 'neutral',\n",
       "  'audience': 'null'},\n",
       " {'who': 'britney',\n",
       "  'where': 'El Segundo, California',\n",
       "  'when': '05/12/2009',\n",
       "  'sentiment': 'neutral',\n",
       "  'audience': 'null'},\n",
       " {'who': 'chris',\n",
       "  'where': 'Glasgow',\n",
       "  'when': '10/01/2009',\n",
       "  'sentiment': 'neutral',\n",
       "  'audience': 'null'},\n",
       " {'who': 'tom',\n",
       "  'where': 'Cocoa Beach, Florida',\n",
       "  'when': '11/20/2009',\n",
       "  'sentiment': 'neutral',\n",
       "  'audience': 'null'},\n",
       " {'who': 'lady gaga', 'sentiment': 'neutral', 'audience': 'null'},\n",
       " {'who': 'michael jackson',\n",
       "  'where': 'San Francisco',\n",
       "  'when': '11/06/2009',\n",
       "  'sentiment': 'neutral',\n",
       "  'audience': 'null'},\n",
       " {'who': 'chris',\n",
       "  'where': 'San Francisco',\n",
       "  'when': '11/06/2009',\n",
       "  'sentiment': 'compound',\n",
       "  'audience': 'null'},\n",
       " {'who': 'chris',\n",
       "  'where': 'San Francisco',\n",
       "  'when': '11/05/2009',\n",
       "  'sentiment': 'neutral',\n",
       "  'audience': 'null'},\n",
       " {'who': 'chris',\n",
       "  'where': 'San Francisco',\n",
       "  'when': '11/04/2009',\n",
       "  'sentiment': 'neutral',\n",
       "  'audience': 'null'},\n",
       " {'who': 'mary',\n",
       "  'where': 'San Francisco',\n",
       "  'when': '10/28/2009',\n",
       "  'sentiment': 'neutral',\n",
       "  'audience': 'null'},\n",
       " {'who': 'justin bieber',\n",
       "  'where': 'San Francisco',\n",
       "  'when': '07/10/2009',\n",
       "  'sentiment': 'neutral',\n",
       "  'audience': 'null'},\n",
       " {'who': 'tom',\n",
       "  'where': 'San Francisco',\n",
       "  'sentiment': 'neutral',\n",
       "  'audience': 'null'},\n",
       " {'who': 'john',\n",
       "  'where': 'Hot Springs',\n",
       "  'when': '08/13/2009',\n",
       "  'sentiment': 'neutral',\n",
       "  'audience': 'null'},\n",
       " {'who': 'tom',\n",
       "  'where': 'Hot Springs',\n",
       "  'when': '08/12/2009',\n",
       "  'sentiment': 'neutral',\n",
       "  'audience': 'null'},\n",
       " {'who': 'andy',\n",
       "  'where': 'San Francisco, CA',\n",
       "  'when': '11/12/2009',\n",
       "  'sentiment': 'neutral',\n",
       "  'audience': 'null'},\n",
       " {'who': 'madonna',\n",
       "  'where': 'San Francisco, CA',\n",
       "  'sentiment': 'neutral',\n",
       "  'audience': 'null'},\n",
       " {'who': 'eminem',\n",
       "  'where': 'San Francisco, CA',\n",
       "  'when': '11/09/2009',\n",
       "  'sentiment': 'neutral',\n",
       "  'audience': 'null'},\n",
       " {'who': 'taylor swift',\n",
       "  'where': 'San Francisco, CA',\n",
       "  'when': '11/04/2009',\n",
       "  'sentiment': 'compound',\n",
       "  'audience': 'null'},\n",
       " {'who': 'ed',\n",
       "  'where': 'Boston, MA',\n",
       "  'when': '11/19/2009',\n",
       "  'sentiment': 'neutral',\n",
       "  'audience': 'null'},\n",
       " {'who': 'harry',\n",
       "  'where': 'Washington, DC',\n",
       "  'when': '11/29/2009',\n",
       "  'sentiment': 'neutral',\n",
       "  'audience': 'null'},\n",
       " {'who': 'britney',\n",
       "  'where': 'Atlanta, Georgia',\n",
       "  'when': '08/31/2009',\n",
       "  'sentiment': 'neutral',\n",
       "  'audience': 'null'},\n",
       " {'who': 'tom',\n",
       "  'where': 'Chicago, IL',\n",
       "  'when': '03/11/2009',\n",
       "  'sentiment': 'neutral',\n",
       "  'audience': 'null'},\n",
       " {'who': 'calvin harris',\n",
       "  'where': 'San Francisco, CA',\n",
       "  'when': '10/27/2009',\n",
       "  'sentiment': 'neutral',\n",
       "  'audience': 'null'},\n",
       " {'who': 'tom',\n",
       "  'where': 'San Francisco, CA',\n",
       "  'when': '10/27/2009',\n",
       "  'sentiment': 'neutral',\n",
       "  'audience': 'null'},\n",
       " {'who': 'david guetta',\n",
       "  'where': 'San Francisco, CA',\n",
       "  'when': '10/26/2009',\n",
       "  'sentiment': 'neutral',\n",
       "  'audience': 'null'},\n",
       " {'who': 'andy',\n",
       "  'where': 'San Francisco, CA',\n",
       "  'when': '10/24/2009',\n",
       "  'sentiment': 'neutral',\n",
       "  'audience': 'null'},\n",
       " {'who': 'andy',\n",
       "  'where': 'San Francisco, CA',\n",
       "  'when': '10/23/2009',\n",
       "  'sentiment': 'neutral',\n",
       "  'audience': 'null'},\n",
       " {'who': 'jay',\n",
       "  'where': 'San Francisco, CA',\n",
       "  'when': '11/07/2009',\n",
       "  'sentiment': 'neutral',\n",
       "  'audience': 'null'},\n",
       " {'who': 'john',\n",
       "  'where': 'San Francisco, CA',\n",
       "  'when': '11/17/2009',\n",
       "  'sentiment': 'neutral',\n",
       "  'audience': 'null'},\n",
       " {'who': 'david',\n",
       "  'where': 'San Francisco, CA',\n",
       "  'when': '11/16/2009',\n",
       "  'sentiment': 'neutral',\n",
       "  'audience': 'null'},\n",
       " {'who': 'george',\n",
       "  'where': 'Mountain View, CA',\n",
       "  'when': '11/05/2009',\n",
       "  'sentiment': 'neutral',\n",
       "  'audience': 'null'},\n",
       " {'who': 'terry',\n",
       "  'where': 'Conyers, Georgia',\n",
       "  'when': '10/01/2009',\n",
       "  'sentiment': 'neutral',\n",
       "  'audience': 'null'},\n",
       " {'who': 'jay',\n",
       "  'where': 'Los Angeles, California',\n",
       "  'when': '06/22/2009',\n",
       "  'sentiment': 'neutral',\n",
       "  'audience': 'null'},\n",
       " {'who': 'tom',\n",
       "  'where': 'Bangor, Maine',\n",
       "  'when': '11/18/2009',\n",
       "  'sentiment': 'neutral',\n",
       "  'audience': 'null'},\n",
       " {'who': 'ray',\n",
       "  'where': 'Bangor, Maine',\n",
       "  'when': '11/18/2009',\n",
       "  'sentiment': 'neutral',\n",
       "  'audience': 'null'},\n",
       " {'who': 'taylor',\n",
       "  'where': 'Bangor, Maine',\n",
       "  'when': '11/18/2009',\n",
       "  'sentiment': 'compound',\n",
       "  'audience': 'null'},\n",
       " {'who': 'chris brown',\n",
       "  'where': 'Los Angeles',\n",
       "  'when': '10/16/2009',\n",
       "  'sentiment': 'neutral',\n",
       "  'audience': 'null'},\n",
       " {'who': 'chris brown',\n",
       "  'where': 'Los Angeles',\n",
       "  'when': '09/20/2009',\n",
       "  'sentiment': 'neutral',\n",
       "  'audience': 'null'},\n",
       " {'who': 'chris',\n",
       "  'where': 'Los Angeles',\n",
       "  'when': '09/14/2009',\n",
       "  'sentiment': 'neutral',\n",
       "  'audience': 'null'},\n",
       " {'who': 'chris brown',\n",
       "  'where': 'Los Angeles',\n",
       "  'when': '09/13/2009',\n",
       "  'sentiment': 'compound',\n",
       "  'audience': 'null'},\n",
       " {'who': 'chris brown',\n",
       "  'where': 'Los Angeles',\n",
       "  'when': '09/11/2009',\n",
       "  'sentiment': 'neutral',\n",
       "  'audience': 'null'},\n",
       " {'who': 'chris',\n",
       "  'where': 'Los Angeles',\n",
       "  'when': '09/10/2009',\n",
       "  'sentiment': 'neutral',\n",
       "  'audience': 'null'},\n",
       " {'who': 'chris brown',\n",
       "  'where': 'Los Angeles',\n",
       "  'when': '09/07/2009',\n",
       "  'sentiment': 'compound',\n",
       "  'audience': 'null'},\n",
       " {'who': 'chris brown',\n",
       "  'where': 'Los Angeles',\n",
       "  'when': '09/07/2009',\n",
       "  'sentiment': 'neutral',\n",
       "  'audience': 'null'},\n",
       " {'who': 'chris',\n",
       "  'where': 'Los Angeles',\n",
       "  'when': '09/07/2009',\n",
       "  'sentiment': 'neutral',\n",
       "  'audience': 'null'},\n",
       " {'who': 'chris brown',\n",
       "  'where': 'Los Angeles',\n",
       "  'when': '09/01/2009',\n",
       "  'sentiment': 'neutral',\n",
       "  'audience': 'null'},\n",
       " {'who': 'sarah',\n",
       "  'where': 'New York, NY',\n",
       "  'when': '11/17/2009',\n",
       "  'sentiment': 'neutral',\n",
       "  'audience': 'null'},\n",
       " {'who': 'jennifer lopez',\n",
       "  'where': 'Los Angeles',\n",
       "  'when': '09/29/2009',\n",
       "  'sentiment': 'neutral',\n",
       "  'audience': 'null'},\n",
       " {'who': 'jennifer lopez',\n",
       "  'where': 'Los Angeles',\n",
       "  'when': '09/29/2009',\n",
       "  'sentiment': 'neutral',\n",
       "  'audience': 'null'},\n",
       " {'who': 'whitney',\n",
       "  'where': 'Los Angeles',\n",
       "  'when': '11/11/2009',\n",
       "  'sentiment': 'neutral',\n",
       "  'audience': 'null'},\n",
       " {'who': 'ray',\n",
       "  'where': 'Los Angeles',\n",
       "  'when': '12/07/2009',\n",
       "  'sentiment': 'neutral',\n",
       "  'audience': 'null'},\n",
       " {'who': 'andrea',\n",
       "  'where': 'Charlotte, NC',\n",
       "  'when': '06/23/2009',\n",
       "  'sentiment': 'neutral',\n",
       "  'audience': 'null'},\n",
       " {'who': 'john',\n",
       "  'where': 'Atlanta',\n",
       "  'when': '11/26/2009',\n",
       "  'sentiment': 'neutral',\n",
       "  'audience': 'null'},\n",
       " {'who': 'chris',\n",
       "  'where': 'Boston, MA',\n",
       "  'when': '07/19/2009',\n",
       "  'sentiment': 'neutral',\n",
       "  'audience': 'null'},\n",
       " {'who': 'michael jackson',\n",
       "  'when': '08/27/2009',\n",
       "  'sentiment': 'neutral',\n",
       "  'audience': 'null'},\n",
       " {'who': 'leona lewis',\n",
       "  'where': 'Baltimore, MD',\n",
       "  'when': '07/09/2009',\n",
       "  'sentiment': 'neutral',\n",
       "  'audience': 'null'},\n",
       " {'who': 'tony',\n",
       "  'where': 'Orlando',\n",
       "  'when': '11/06/2009',\n",
       "  'sentiment': 'neutral',\n",
       "  'audience': 'null'},\n",
       " {'who': 'jay',\n",
       "  'where': 'Shawnee, OK',\n",
       "  'when': '07/26/2009',\n",
       "  'sentiment': 'neutral',\n",
       "  'audience': 'null'},\n",
       " {'who': 'jay',\n",
       "  'where': 'Shawnee, OK',\n",
       "  'when': '07/25/2009',\n",
       "  'sentiment': 'neutral',\n",
       "  'audience': 'null'},\n",
       " {'who': 'jay',\n",
       "  'where': 'Shawnee, OK',\n",
       "  'when': '07/23/2009',\n",
       "  'sentiment': 'neutral',\n",
       "  'audience': 'null'},\n",
       " {'who': 'tony',\n",
       "  'where': 'Shawnee, OK',\n",
       "  'when': '07/23/2009',\n",
       "  'sentiment': 'neutral',\n",
       "  'audience': 'null'},\n",
       " {'who': 'simon',\n",
       "  'where': 'New York',\n",
       "  'when': '10/17/2009',\n",
       "  'sentiment': 'neutral',\n",
       "  'audience': 'null'},\n",
       " {'who': 'david',\n",
       "  'where': 'New York',\n",
       "  'when': '10/14/2009',\n",
       "  'sentiment': 'compound',\n",
       "  'audience': 'null'},\n",
       " {'who': 'madonna',\n",
       "  'where': 'Los Angeles, CA',\n",
       "  'when': '11/17/2009',\n",
       "  'sentiment': 'neutral',\n",
       "  'audience': 'null'},\n",
       " {'who': 'tony', 'sentiment': 'neutral', 'audience': 'null'},\n",
       " {'who': 'jerry',\n",
       "  'where': 'Tucson, AZ',\n",
       "  'when': '10/30/2009',\n",
       "  'sentiment': 'compound',\n",
       "  'audience': 'null'},\n",
       " {'who': 'tom',\n",
       "  'where': 'Greensboro, NC',\n",
       "  'when': '06/21/2009',\n",
       "  'sentiment': 'neutral',\n",
       "  'audience': 'null'},\n",
       " {'who': 'ed',\n",
       "  'where': 'San Francisco',\n",
       "  'when': '11/03/2009',\n",
       "  'sentiment': 'neutral',\n",
       "  'audience': 'null'},\n",
       " {'who': 'jerry',\n",
       "  'where': 'San Francisco',\n",
       "  'when': '11/03/2009',\n",
       "  'sentiment': 'neutral',\n",
       "  'audience': 'null'},\n",
       " {'who': 'paul',\n",
       "  'where': 'San Francisco',\n",
       "  'when': '11/02/2009',\n",
       "  'sentiment': 'neutral',\n",
       "  'audience': 'null'},\n",
       " {'who': 'taylor swift',\n",
       "  'where': 'San Francisco',\n",
       "  'when': '11/23/2009',\n",
       "  'sentiment': 'compound',\n",
       "  'audience': 'null'},\n",
       " {'who': 'michael jackson',\n",
       "  'where': 'Phoenix, AZ',\n",
       "  'when': '11/14/2009',\n",
       "  'sentiment': 'neutral',\n",
       "  'audience': 'null'},\n",
       " {'who': 'richard',\n",
       "  'where': 'Phoenix, AZ',\n",
       "  'when': '11/13/2009',\n",
       "  'sentiment': 'neutral',\n",
       "  'audience': 'null'},\n",
       " {'who': 'paul',\n",
       "  'where': 'Phoenix, AZ',\n",
       "  'when': '11/10/2009',\n",
       "  'sentiment': 'neutral',\n",
       "  'audience': 'null'},\n",
       " {'who': 'jason',\n",
       "  'where': 'Los Angeles',\n",
       "  'when': '11/03/2009',\n",
       "  'sentiment': 'neutral',\n",
       "  'audience': 'null'},\n",
       " {'who': 'jason',\n",
       "  'where': 'Los Angeles',\n",
       "  'when': '11/03/2009',\n",
       "  'sentiment': 'neutral',\n",
       "  'audience': 'null'},\n",
       " {'who': 'michael',\n",
       "  'where': 'Los Angeles',\n",
       "  'when': '11/08/2009',\n",
       "  'sentiment': 'neutral',\n",
       "  'audience': 'null'},\n",
       " {'who': 'david',\n",
       "  'where': 'Los Angeles',\n",
       "  'when': '11/25/2009',\n",
       "  'sentiment': 'compound',\n",
       "  'audience': 'null'},\n",
       " {'who': 'julie',\n",
       "  'where': 'Los Angeles',\n",
       "  'when': '11/25/2009',\n",
       "  'sentiment': 'neutral',\n",
       "  'audience': 'null'},\n",
       " {'who': 'jay sean',\n",
       "  'where': 'Los Angeles',\n",
       "  'when': '11/25/2009',\n",
       "  'sentiment': 'neutral',\n",
       "  'audience': 'null'}]"
      ]
     },
     "execution_count": 24,
     "metadata": {},
     "output_type": "execute_result"
    }
   ],
   "source": [
    "final(small,singers,extract,extracted_text)"
   ]
  },
  {
   "cell_type": "code",
   "execution_count": 107,
   "metadata": {},
   "outputs": [
    {
     "data": {
      "text/plain": [
       "'Los Angeles'"
      ]
     },
     "execution_count": 107,
     "metadata": {},
     "output_type": "execute_result"
    }
   ],
   "source": [
    "city['60730027']"
   ]
  },
  {
   "cell_type": "code",
   "execution_count": null,
   "metadata": {},
   "outputs": [],
   "source": []
  }
 ],
 "metadata": {
  "kernelspec": {
   "display_name": "Python 3",
   "language": "python",
   "name": "python3"
  },
  "language_info": {
   "codemirror_mode": {
    "name": "ipython",
    "version": 3
   },
   "file_extension": ".py",
   "mimetype": "text/x-python",
   "name": "python",
   "nbconvert_exporter": "python",
   "pygments_lexer": "ipython3",
   "version": "3.7.7"
  }
 },
 "nbformat": 4,
 "nbformat_minor": 4
}
